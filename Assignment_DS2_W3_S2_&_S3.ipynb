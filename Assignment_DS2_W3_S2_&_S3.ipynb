{
  "nbformat": 4,
  "nbformat_minor": 5,
  "metadata": {
    "kernelspec": {
      "display_name": "Python 3",
      "language": "python",
      "name": "python3"
    },
    "language_info": {
      "codemirror_mode": {
        "name": "ipython",
        "version": 3
      },
      "file_extension": ".py",
      "mimetype": "text/x-python",
      "name": "python",
      "nbconvert_exporter": "python",
      "pygments_lexer": "ipython3",
      "version": "3.8.8"
    },
    "colab": {
      "name": "Assignment_DS2_W3_S2_&_S3.ipynb",
      "provenance": []
    }
  },
  "cells": [
    {
      "cell_type": "markdown",
      "metadata": {
        "id": "fc6f4e53"
      },
      "source": [
        "# Session 7 and 8 Task (Day-to-Day)\n",
        "\n",
        "## Outlines\n",
        "\n",
        "- Data Wrangling\n",
        "- Data Cleaning\n",
        "- Visualizations\n",
        "\n",
        "## Notes\n",
        "- <span style=\"color:red\">**PROVE ALL YOUR ANSWERS WITH GRAPHS IF AVAILABLE**.\n",
        "- All problems **MUST** be solved.\n",
        "- Read the problems well, before you start solving.\n",
        "- The solution **MUST** pass all the test cases.\n",
        "- Feel free to add more cells to develope the program, **BUT** make sure you gather them in ONE adequately working code cell.  \n",
        "\n",
        "#### **Good Luck**"
      ],
      "id": "fc6f4e53"
    },
    {
      "cell_type": "markdown",
      "metadata": {
        "id": "fa3eb71b"
      },
      "source": [
        "## <span style=\"color:blue\">Problem statment\n",
        "\n",
        "The content, tone, and format of job bulletins can influence the quality of the applicant pool. Overly-specific job requirements may discourage diversity. The Los Angeles Mayor’s Office wants to reimagine the city’s job bulletins by using text analysis to identify needed improvements.\n",
        "\n",
        "The goal is to convert a folder full of plain-text job postings into a single structured CSV file and then to use this data to answer the questions provided below\n",
        "\n",
        "\n",
        "## <span style=\"color:blue\">Data Description\n",
        "\n",
        "The job bulletins will be provided as a folder of plain-text files, one for each job classification.\n",
        "\n",
        "Job Bulletins: 683 plain-text job postings\n",
        "\n",
        "Instructions and Additional Documents:\n",
        "\n",
        "- Job Bulletins with Annotations\n",
        "\n",
        "- Annotation Descriptions.docx\n",
        "\n",
        "- City Job Paths\n",
        "\n",
        "- PDFs\n",
        "\n",
        "- Description of promotions in job bulletins.docx\n",
        "\n",
        "- Job_titles.csv\n",
        "\n",
        "- Kaggle_data_dictionary.csv\n"
      ],
      "id": "fa3eb71b"
    },
    {
      "cell_type": "markdown",
      "metadata": {
        "id": "f4fb0ce7"
      },
      "source": [
        "### <span style=\"color:orange\">Task 1\n",
        "\n",
        "Create a descriptive csv file from the plain-text samples with the followoing columns:\n",
        "\n",
        "- FILE_NAME: The bulletins file name.\n",
        "- JOB_CLASS_TITLE: Job title.\n",
        "- JOB_CLASS_NO: Job number.\n",
        "- JOB_DUTIES: The duties of this job.\n",
        "- EDUCATION_YEARS: Number of education yeras needed to apply for this job.\n",
        "- SCHOOL_TYPE: The type of school you need to study in.\n",
        "- EDUCATION_MAJOR: The eductaion major you study in this school.\n",
        "- EXPERIENCE_LENGTH: The number of experience years needed to apply for this job .\n",
        "- FULL_TIME_PART_TIME: If the job is full time or part time or both.\n",
        "- EXP_JOB_CLASS_TITLE: The title of the job you must have experience in before applying in this job.\n",
        "- COURSE_COUNT: Number of courses neede to apply for this job.\n",
        "- COURSE_LENGTH: The course length in years or months.\n",
        "- COURSE_SUBJECT: The course subject tha is needed to be accepted in this job.\n",
        "- DRIVERS_LICENSE_REQ: Is driver license required or not for this job.\n",
        "- EXAM_TYPE: Type of exams neededin the hiring process.\n",
        "- ENTRY_SALARY: Salary range in this job.\n",
        "- OPEN_DATE: Date at it the job bulliten got open.\n",
        "- REQUIREMENT_SET_TEXT: The requirments set need for this job in points."
      ],
      "id": "f4fb0ce7"
    },
    {
      "cell_type": "code",
      "metadata": {
        "id": "fbbfe83d"
      },
      "source": [
        "### Write you code here ###\n",
        "# i do this code in my pc in app (Pycharm community edition 2020.3.3)\n",
        "# this code for all text folder \n"
      ],
      "id": "fbbfe83d",
      "execution_count": null,
      "outputs": []
    },
    {
      "cell_type": "code",
      "metadata": {
        "id": "Vbf8yE5W9W2P"
      },
      "source": [
        "import pandas as pd\n",
        "import re\n",
        "import os\n",
        "import numpy as np\n",
        "from datetime import datetime\n",
        "from word2number import w2n\n",
        "import seaborn as sns\n",
        "import matplotlib.pyplot as plt\n",
        "import calendar\n",
        "from nltk import word_tokenize\n",
        "from collections  import Counter\n",
        "\n",
        "\n",
        "\n",
        "\n",
        "\n",
        "bulletins=os.listdir(\"cityofla/CityofLA/Job Bulletins/\")\n",
        "additional=os.listdir(\"cityofla/CityofLA/Additional data/\")\n",
        "\n",
        "\n",
        "\n",
        "def to_dataframe(number, df):\n",
        "#                                           \"\"\n",
        "    opendate = re.compile(r'(Open [D,d]ate:)(\\s+)(\\d\\d-\\d\\d-\\d\\d)')\n",
        "    class_code = re.compile(r'(Class Code:)(\\s+)(\\d+)')\n",
        "    salary = re.compile(r'\\$(\\d+,\\d+)((\\s(to|and)\\s)(\\$\\d+,\\d+))?')\n",
        "    requirements = re.compile(r'(REQUIREMENTS?/MINIMUM QUALIFICATIONS?)')\n",
        "    drive = re.compile(r'(driver?)')\n",
        "    rr1 = re.compile(r'(full-time)')\n",
        "    application = re.compile(r'(Application?)')\n",
        "\n",
        "\n",
        "\n",
        "    for no in range(0, number):\n",
        "        with open(\"cityofla/CityofLA/Job Bulletins/\" + bulletins[no],\n",
        "                  encoding=\"ISO-8859-1\") as f:\n",
        "            try:\n",
        "                file = f.read().replace('\\t', '')\n",
        "                # print(file)\n",
        "                data = file.replace('one', 'One')\n",
        "                data = data.replace('two', 'Two')\n",
        "                data = data.replace('three', 'Three')\n",
        "                data = data.replace('four', 'Four')\n",
        "                data = data.replace('five', 'Five')\n",
        "\n",
        "                data = data.replace('\\n', '',)\n",
        "                # print(data)\n",
        "                headings=[heading for heading in file.split('\\n') if heading.isupper()]\n",
        "                salary_cv = re.search(salary, data)\n",
        "                date = datetime.strptime(re.search(opendate, data).group(3), '%m-%d-%y')\n",
        "                try:\n",
        "                    Class_Code = re.search(class_code,data).group(3)\n",
        "                except Exception as e:\n",
        "                    Class_Code = np.nan\n",
        "                try:\n",
        "                    zz =[x.group() for x in\n",
        "                     re.finditer(r'experience [as|in](.*?) ..................................', data)]\n",
        "                    # print(zz)\n",
        "\n",
        "                except :\n",
        "                    zz = np.nan\n",
        "                try:\n",
        "                    zzz =[x.group(1) for x in\n",
        "                     re.finditer(r'Satisfactory completion of (One|Two|Three|Four|Five|Six|Seven|Eight|Nine|Ten|one|two|three|four|five|six|seven|eight|nine|ten)(.*?) and', data)]\n",
        "                    # print(zzz)\n",
        "\n",
        "                except :\n",
        "                    zzz = np.nan\n",
        "\n",
        "                    # print(zzz)\n",
        "                try:\n",
        "                    zzzz =[x.group(2) for x in\n",
        "                     re.finditer(r'Satisfactory completion of (One|Two|Three|Four|Five|Six|Seven|Eight|Nine|Ten|one|two|three|four|five|six|seven|eight|nine|ten)(.*?) .[1:2]', data)]\n",
        "                    # print(zzzz)\n",
        "\n",
        "                except :\n",
        "                    zzzz = np.nan\n",
        "\n",
        "\n",
        "\n",
        "\n",
        "\n",
        "                if re.findall(r\"(driver?)\", data):\n",
        "                    y='yes required'\n",
        "\n",
        "                else:\n",
        "                    y = 'not required'\n",
        "\n",
        "                try:\n",
        "                    req = re.search(requirements, data).group(3)\n",
        "                    # print(req)\n",
        "                except Exception as e:\n",
        "                    req = re.search('(.*)NOTES?', re.findall(r'(REQUIREMENTS?)(.*)(NOTES?)',\n",
        "                                                             data)[0][1][:1200]).group(1)\n",
        "                    wordlist  = req.split()\n",
        "                    # print(wordlist)\n",
        "                    word = '/MINIMUM'\n",
        "                    if word in wordlist:\n",
        "                        req = req.replace(word, \"\\b\")\n",
        "                        req = req[15:]\n",
        "                        # print(\"\\nNew String without \\\"\" + word + \"\\\":\")\n",
        "                        # print(req)\n",
        "\n",
        "\n",
        "\n",
        "\n",
        "\n",
        "                duties = re.search(r'(DUTIES)(.*)(REQ[A-Z])', data).group(2)\n",
        "                try:\n",
        "                    enddate = re.search(\n",
        "                        r'(JANUARY|FEBRUARY|MARCH|APRIL|MAY|JUNE|JULY|AUGUST|SEPTEMBER|OCTOBER|NOVEMBER|DECEMBER)\\s(\\d{1,2},\\s\\d{4})'\n",
        "                        , data).group()\n",
        "                except Exception as e:\n",
        "                    enddate = np.nan\n",
        "\n",
        "\n",
        "                #\n",
        "                EXAM_TYPE = [z[0] for z in re.findall('([A-Z][a-z]+)((\\s\\.\\s)+)', data)]\n",
        "                # print(EXAM_TYPE)\n",
        "\n",
        "                my_string = req\n",
        "                # print(my_string)\n",
        "                try:\n",
        "                    q = my_string.split('college or university', 1)[1]\n",
        "                except Exception as e:\n",
        "                    q = np.nan\n",
        "                # print(q)\n",
        "                df = df.append(\n",
        "                    {'File Name': bulletins[no], 'Job title': headings[0].lower(), 'Job number': Class_Code,\n",
        "                     'SCHOOL_TYPE': df['SCHOOL_TYPE'],\n",
        "                     'ENTRY_SALARY': salary_cv.group(1,2),\n",
        "                     'salary_start': salary_cv.group(1),\n",
        "                     'salary_end': salary_cv.group(5),\n",
        "                     'EDUCATION_MAJOR':q,\n",
        "                     'EXP_JOB_CLASS_TITLE':zz,\n",
        "                     'COURSE_COUNT':zzz,\n",
        "                     'COURSE_SUBJECT':zzzz,\n",
        "                     'COURSE_LENGTH':zzzz,\n",
        "                     'DRIVERS_LICENSE_REQ':y,\n",
        "\n",
        "                      \"opendate\": date, \"requirements\": req, 'duties': duties,\n",
        "                      'EXAM_TYPE': EXAM_TYPE}, ignore_index=True)\n",
        "                reg = re.compile(\n",
        "                    r'(One|Two|Three|Four|Five|Six|Seven|Eight|Nine|Ten|one|two|three|four|five|six|seven|eight|nine|ten)\\s(years?)\\s(of\\sfull(-|\\s)time)')\n",
        "                df['EXPERIENCE_LENGTH'] = df['requirements'].apply(\n",
        "                    lambda x: re.search(reg, x).group(1) if re.search(reg, x) is not None else \"Zero\")\n",
        "\n",
        "                # print(df['requirements'])\n",
        "                # print(df['EXPERIENCE_LENGTH'])\n",
        "\n",
        "                reg = re.compile(\n",
        "                    r'(One|Two|Three|Four|Five|Six|Seven|Eight|Nine|Ten|one|two|three|four|five|six|seven|eight|nine|ten)(\\s|-)(years?)\\s(college)')\n",
        "                df['EDUCATION_YEARS'] = df['requirements'].apply(\n",
        "                    lambda x: re.search(reg, x).group(1) if re.search(reg, x) is not None else np.nan)\n",
        "                # print(df['EDUCATION_YEARS'])\n",
        "                df['SCHOOL_TYPE'] = df['EDUCATION_YEARS'].apply(\n",
        "                    lambda x: 'College or University' if x is not np.nan else np.nan)\n",
        "                # df['SCHOOL_TYPE'] = df['EDUCATION_YEARS'].apply(\n",
        "                #     lambda x: 'College or University' if x is not np.nan else 'None')\n",
        "                reg = re.compile(\n",
        "                    r'(Men|Women|Women|women|Male|male|Female|female)')\n",
        "                df['sex'] = df['requirements'].apply(\n",
        "                    lambda x: re.search(reg, x).group() if re.search(reg, x) is not None else np.nan)\n",
        "                df['FULL_TIME_PART_TIME'] = df['EXPERIENCE_LENGTH'].apply(\n",
        "                    lambda x: 'full_time' if x is not np.nan else np.nan)\n",
        "\n",
        "                # df['ENTRY_SALARY'] = [int(sal.split(',')[0] + sal.split(',')[1]) for sal in df['ENTRY_SALARY']]\n",
        "\n",
        "\n",
        "\n",
        "            #\n",
        "            except Exception as e:\n",
        "\n",
        "                print('umatched sequence')\n",
        "\n",
        "    return df\n",
        "\n",
        "\n",
        "\n",
        "df=pd.DataFrame(columns=['File Name','Job title','Job number','SCHOOL_TYPE','ENTRY_SALARY','EDUCATION_MAJOR','EXP_JOB_CLASS_TITLE','COURSE_COUNT','COURSE_SUBJECT','COURSE_LENGTH','opendate','requirements','duties'])\n",
        "df=to_dataframe(len(bulletins),df)\n",
        "df.to_csv('job__1.csv')\n",
        "pd.set_option('display.max_columns', 20)\n",
        "\n",
        "\n",
        "\n",
        "df['salary_start']=[int(sal.split(',')[0]+sal.split(',')[1] ) for sal in df['salary_start']]\n",
        "df['salary_end']=[sal.replace('$','')  if sal!= None else 0 for sal in df['salary_end']  ]\n",
        "df['salary_end']=[int(sal.split(',')[0]+sal.split(',')[1] ) if type(sal)!=int else 0 for sal in df['salary_end']]\n",
        "\n",
        "\n",
        "\n",
        "\n",
        "\n",
        "plt.show()\n",
        "\n",
        "\n",
        "\n",
        "\n"
      ],
      "id": "Vbf8yE5W9W2P",
      "execution_count": null,
      "outputs": []
    },
    {
      "cell_type": "markdown",
      "metadata": {
        "id": "b7875c43"
      },
      "source": [
        "### <span style=\"color:orange\">Task 2\n",
        "\n",
        "Assume you are a DA in a company and you are about to prepare a report to the LA governate about there jobs, by answering some questions and give insight about the data provided.\n",
        "\n",
        "### Note: This section will be a QA cells."
      ],
      "id": "b7875c43"
    },
    {
      "cell_type": "markdown",
      "metadata": {
        "id": "3cb555f8"
      },
      "source": [
        "### <span style=\"color:brown\">Q1:\n",
        "\n",
        "A non-experienced job seeker wants to know what is the best job for him?"
      ],
      "id": "3cb555f8"
    },
    {
      "cell_type": "code",
      "metadata": {
        "id": "c796dd42"
      },
      "source": [
        "best1 = (df[df['EXPERIENCE_LENGTH'].isin(['Zero'])]['Job title']).value_counts()\n",
        "print(best1)\n",
        "# maybe we can plot it but i am not sure because a lot of job title\n",
        "pd.crosstab((df['EXPERIENCE_LENGTH']=='Zero').to_list().count(True),df['Job title']).plot.bar()\n",
        "pd.crosstab((df['EXPERIENCE_LENGTH']=='Zero').to_list().count(True),df['Job title']).plot.bar()\n",
        "plt.show()\n",
        "\n",
        "## the best job is wastewater treatment operator and water treatment operator for 0  EXPERIENCE\n"
      ],
      "id": "c796dd42",
      "execution_count": null,
      "outputs": []
    },
    {
      "cell_type": "markdown",
      "metadata": {
        "id": "353abe91"
      },
      "source": [
        "### <span style=\"color:brown\">Q2:\n",
        "\n",
        "A concerned parents contacts you to tell them if there is a spicific school type that would guaranteed for their child a good future if you can tell, and which is it ?"
      ],
      "id": "353abe91"
    },
    {
      "cell_type": "code",
      "metadata": {
        "id": "b7a4d505"
      },
      "source": [
        "### Write you code here ###\n",
        "cont_school = df['SCHOOL_TYPE']=='College or University'\n",
        "\n",
        "print(cont_school.to_list().count(True))\n",
        "\n",
        "# I can not get the name of the school but they preferred any College or University\n"
      ],
      "id": "b7a4d505",
      "execution_count": null,
      "outputs": []
    },
    {
      "cell_type": "markdown",
      "metadata": {
        "id": "0b60d1ac"
      },
      "source": [
        "### <span style=\"color:brown\">Q3:\n",
        "\n",
        "What the best time in the year to be ready for a job applying in any experience level?"
      ],
      "id": "0b60d1ac"
    },
    {
      "cell_type": "code",
      "metadata": {
        "id": "05297b68"
      },
      "source": [
        "### Write you code here ###\n",
        "\n",
        "plt.figure(figsize=(7,5))\n",
        "df['open_month']=[z.month for z in df['opendate']]\n",
        "count=df['open_month'].value_counts(sort=False)\n",
        "sns.barplot(y=count.values,x=count.index,palette='rocket')\n",
        "plt.gca().set_xticklabels([calendar.month_name[x] for x in count.index],rotation='45')\n",
        "plt.show()\n",
        "\n",
        "## the answer is March,October and December\n"
      ],
      "id": "05297b68",
      "execution_count": null,
      "outputs": []
    },
    {
      "cell_type": "markdown",
      "metadata": {
        "id": "e0dc1ad0"
      },
      "source": [
        "### <span style=\"color:brown\">Q4:\n",
        "\n",
        "Is experience more important than educational level?"
      ],
      "id": "e0dc1ad0"
    },
    {
      "cell_type": "code",
      "metadata": {
        "id": "31931df9"
      },
      "source": [
        "### Write you code here ###\n",
        "\n",
        "x1=df['SCHOOL_TYPE'].value_counts()[0]\n",
        "x2=df['FULL_TIME_PART_TIME'].value_counts()[0]\n",
        "plt.figure(figsize=(5,5))\n",
        "plt.bar(height=[x1,x2],x=['College Degree','Experience'])\n",
        "plt.show()\n",
        "\n",
        "## the answer is experience for sure"
      ],
      "id": "31931df9",
      "execution_count": null,
      "outputs": []
    },
    {
      "cell_type": "markdown",
      "metadata": {
        "id": "9b62c907"
      },
      "source": [
        "### <span style=\"color:brown\">Q5:\n",
        "\n",
        "Which fresh grade job that will guarantee many job offers in the future for him?"
      ],
      "id": "9b62c907"
    },
    {
      "cell_type": "code",
      "metadata": {
        "id": "d8032155"
      },
      "source": [
        "### Write you code here ###\n",
        "\n",
        "plt.figure(figsize=(8,5))\n",
        "text=''.join(job for job in df['Job title'])\n",
        "text=word_tokenize(text)\n",
        "jobs=Counter(text)\n",
        "print(jobs)\n",
        "offers=[job for job in jobs.most_common(12) if len(job[0])>3]\n",
        "a,b=map(list, zip(*offers))\n",
        "sns.barplot(b,a,palette='rocket')\n",
        "plt.title('Job sectors')\n",
        "plt.xlabel(\"count\")\n",
        "\n",
        "\n",
        "plt.show()\n",
        "# the answer is engineering then services is the most jobs  the Most wanted work in these files \n",
        "\n",
        "################3\n",
        "\n",
        "\n",
        "best1 = (df[df['EXPERIENCE_LENGTH'].isin(['Zero'])]['Job title']).value_counts()\n",
        "print(best1)\n",
        "# maybe we can plot it but i am not sure because a lot of job title\n",
        "pd.crosstab((df['EXPERIENCE_LENGTH']=='Zero').to_list().count(True),df['Job title']).plot.bar()\n",
        "pd.crosstab((df['EXPERIENCE_LENGTH']=='Zero').to_list().count(True),df['Job title']).plot.bar()\n",
        "plt.show()\n",
        "\n",
        "\n",
        "## the best job is wastewater treatment operator and water treatment operator for  0 EXPERIENCE\n"
      ],
      "id": "d8032155",
      "execution_count": null,
      "outputs": []
    },
    {
      "cell_type": "markdown",
      "metadata": {
        "id": "a462f842"
      },
      "source": [
        "### <span style=\"color:brown\">Q6:\n",
        "\n",
        "\"The City of Los Angeles does not discriminate on the basis of race, religion, national origin, sex, age, marital status, sexual orientation, gender identity, gender expression, disability, creed, color, ancestry, medical condition (cancer), or Acquired Immune Deficiency Syndrome.\n",
        "\n",
        "AN EQUAL EMPLOYMENT OPPORTUNITY EMPLOYER \n",
        "\"\n",
        "\n",
        "The above statment is qouted from one of the job descriptions.\n",
        "\n",
        "Based on the jobs requirments you structred above do you think that LA governate may bais a little for men over women or the applicant marital status for example may effect his chance to gain the job?"
      ],
      "id": "a462f842"
    },
    {
      "cell_type": "code",
      "metadata": {
        "id": "71f82f26"
      },
      "source": [
        "### Write you code here ###\n",
        "\n",
        "# we add sex columne to check if in requirments said must be men or women\n",
        "print(df['sex'].value_counts())\n",
        "# and i agree with (AN EQUAL EMPLOYMENT OPPORTUNITY EMPLOYER )\""
      ],
      "id": "71f82f26",
      "execution_count": null,
      "outputs": []
    },
    {
      "cell_type": "markdown",
      "metadata": {
        "id": "25d4a430"
      },
      "source": [
        "### <span style=\"color:brown\">Q7:\n",
        "\n",
        "The city need an advice based on your analysis, build a new schools for more fresh non-experienced workers or encorge the work environment to help the workers to get promotions?"
      ],
      "id": "25d4a430"
    },
    {
      "cell_type": "code",
      "metadata": {
        "id": "c2f387f3"
      },
      "source": [
        "### Write you code here ###\n",
        "\n",
        "experience=df['EXPERIENCE_LENGTH'].value_counts().reset_index()\n",
        "experience['index']=experience['index'].apply(lambda x : x.lower())\n",
        "experience=experience.groupby('index',as_index=False).agg('sum')\n",
        "labels=experience['index']\n",
        "sizes=experience['EXPERIENCE_LENGTH']\n",
        "plt.figure(figsize=(5,7))\n",
        "plt.pie(sizes,labels=labels)\n",
        "plt.gca().axis('equal')\n",
        "plt.title('Experience value count')\n",
        "plt.show()\n",
        "\n",
        "# if you want we look that many people  of 0 EXPERIENCE_LENGTH is there , so the best way is to  encorge the work environment to help the workers to get promotions,\n",
        "# because we have a lot of 0  EXPERIENCE_LENGTH so a lot \n",
        "## else i think build new school to make workres of 0 EXPERIENCE_LENGTH work on it is the best because most of jobs need 2 years of EXPERIENCE\n",
        "## but also we have jobs need 0 EXPERIENCE \n",
        "# so it is hard thing go advice but in my EXPERIENCE\n",
        "## i think build new school is the best because most of jobs need 2 years of EXPERIENCE\n"
      ],
      "id": "c2f387f3",
      "execution_count": null,
      "outputs": []
    },
    {
      "cell_type": "markdown",
      "metadata": {
        "id": "faf50ced"
      },
      "source": [
        "### <span style=\"color:brown\">Q8:\n",
        "\n",
        "What is the average salary for worker with a driver licence?"
      ],
      "id": "faf50ced"
    },
    {
      "cell_type": "code",
      "metadata": {
        "id": "c425ad8c"
      },
      "source": [
        "### Write you code here ###\n",
        "most_paid=df[['DRIVERS_LICENSE_REQ','salary_start']].sort_values(by='salary_start',ascending=False)\n",
        "paied = most_paid[most_paid['DRIVERS_LICENSE_REQ']=='yes required']\n",
        "paid_sal = paied['salary_start']\n",
        "print(paid_sal.mean())\n",
        "\n",
        "plt.figure(figsize=(7,5))\n",
        "sns.barplot(y=most_paid['DRIVERS_LICENSE_REQ'],x=most_paid['salary_start'],palette='rocket')\n",
        "plt.title('DRIVERS_LICENSE_REQ Salary')\n",
        "\n",
        "# almost 80795.15716753023$\n"
      ],
      "id": "c425ad8c",
      "execution_count": null,
      "outputs": []
    },
    {
      "cell_type": "markdown",
      "metadata": {
        "id": "2a9629c6"
      },
      "source": [
        "## <span style=\"color:brown\">Q9:\n",
        "\n",
        "list the most feature that effect the salary of the worker."
      ],
      "id": "2a9629c6"
    },
    {
      "cell_type": "code",
      "metadata": {
        "id": "fef8206f"
      },
      "source": [
        "most_paid=df[['EXPERIENCE_LENGTH','salary_start']].sort_values(by='salary_start',ascending=False)\n",
        "plt.figure(figsize=(20,20))\n",
        "sns.barplot(y=most_paid['EXPERIENCE_LENGTH'],x=most_paid['salary_start'],palette='rocket')\n",
        "plt.title('Best paid jobs in LA')\n",
        "plt.show()\n",
        "most_paid=df[['Job title','salary_start']].sort_values(by='salary_start',ascending=False)[:15]\n",
        "plt.figure(figsize=(20,20))\n",
        "sns.barplot(y=most_paid['Job title'],x=most_paid['salary_start'],palette='rocket')\n",
        "plt.title('Best paid jobs in LA')\n",
        "plt.show()\n",
        "\n",
        "print(df.corr())\n",
        "\n",
        "plt.show()\n",
        "\n",
        "\n",
        "# Job title EXPERIENCE_LENGTH and\n"
      ],
      "id": "fef8206f",
      "execution_count": null,
      "outputs": []
    },
    {
      "cell_type": "markdown",
      "metadata": {
        "id": "848f11b1"
      },
      "source": [
        "## <span style=\"color:brown\">Q10:\n",
        "\n",
        "Give a full statistical description for all numrical data columns including all insights and needed figures to visualize them."
      ],
      "id": "848f11b1"
    },
    {
      "cell_type": "code",
      "metadata": {
        "id": "c7c746eb"
      },
      "source": [
        "### Write you code here ###\n",
        "\n",
        "df['salary_start'].plot(kind='density',\n",
        "                        figsize=(10,10))\n",
        "# plt.show()\n",
        "\n",
        "plt.vlines(df['salary_start'].mean(),\n",
        "           ymin=0,\n",
        "           ymax=0.000013,\n",
        "           linewidth=1,\n",
        "           color='blue')\n",
        "plt.vlines(df['salary_start'].median(),\n",
        "           ymin=0,\n",
        "           ymax=0.000013,\n",
        "           linewidth=0.5,\n",
        "           color='red')\n",
        "\n",
        "\n",
        "\n",
        "plt.show()\n",
        "\n",
        "##\n",
        "df['salary_end'].plot(kind='density',\n",
        "                        figsize=(10,10))\n",
        "plt.vlines(df['salary_end'].mean(),\n",
        "           ymin=0,\n",
        "           ymax=0.000013,\n",
        "           linewidth=1,\n",
        "           color='blue')\n",
        "plt.vlines(df['salary_end'].median(),\n",
        "           ymin=0,\n",
        "           ymax=0.000013,\n",
        "           linewidth=0.5,\n",
        "           color='red')\n",
        "plt.show()\n",
        "\n",
        "##\n",
        "df.EXPERIENCE_LENGTH = df.EXPERIENCE_LENGTH.apply(w2n.word_to_num)\n",
        "df['EXPERIENCE_LENGTH'].plot(kind='density',\n",
        "                        figsize=(10,10))\n",
        "# plt.show()\n",
        "\n",
        "plt.vlines(df['EXPERIENCE_LENGTH'].mean(),\n",
        "           ymin=0,\n",
        "           ymax=0.6,\n",
        "           linewidth=1,\n",
        "           color='blue')\n",
        "plt.vlines(df['EXPERIENCE_LENGTH'].median(),\n",
        "           ymin=0,\n",
        "           ymax=0.66,\n",
        "           linewidth=0.5,\n",
        "           color='red')\n",
        "\n",
        "\n",
        "\n",
        "plt.show()\n",
        "print(df.describe())"
      ],
      "id": "c7c746eb",
      "execution_count": null,
      "outputs": []
    },
    {
      "cell_type": "markdown",
      "metadata": {
        "id": "6f832335"
      },
      "source": [
        "## <span style=\"color:brown\">Q11:\n",
        "\n",
        "Give a full statistical description for the categorical data columns that can be descriped including all insights and needed figures to visualize them.\n"
      ],
      "id": "6f832335"
    },
    {
      "cell_type": "code",
      "metadata": {
        "id": "809099cd"
      },
      "source": [
        "### Write you code here ###\n",
        "\n",
        "df['SCHOOL_TYPE'].value_counts().plot(kind='bar')\n",
        "plt.show()\n",
        "df['FULL_TIME_PART_TIME'].value_counts().plot(kind='bar')\n",
        "plt.show()\n",
        "df['DRIVERS_LICENSE_REQ'].value_counts().plot(kind='bar')\n",
        "plt.show()\n",
        "df['EXAM_TYPE'].value_counts().plot(kind='bar')\n",
        "\n",
        "\n",
        "plt.show()\n",
        "\n",
        "print(df.describe(include=['O']))\n",
        "\n"
      ],
      "id": "809099cd",
      "execution_count": null,
      "outputs": []
    },
    {
      "cell_type": "markdown",
      "metadata": {
        "id": "f423149d"
      },
      "source": [
        "## Great Job."
      ],
      "id": "f423149d"
    }
  ]
}